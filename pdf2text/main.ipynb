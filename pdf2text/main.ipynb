{
 "cells": [
  {
   "cell_type": "code",
   "execution_count": 1,
   "metadata": {},
   "outputs": [],
   "source": [
    "#整理pdf文件\n",
    "\n",
    "import os\n",
    "\n",
    "i = 0\n",
    "basedir = './test/'\n",
    "\n",
    "for file in os.listdir('./test'):\n",
    "    os.rename(basedir + file,basedir + f'{i}.pdf')\n",
    "    i+=1"
   ]
  },
  {
   "cell_type": "code",
   "execution_count": 13,
   "metadata": {},
   "outputs": [],
   "source": [
    "#pdf转图片\n",
    "\n",
    "# import module\n",
    "from pdf2image import convert_from_path\n",
    " \n",
    "basedir = './test/'\n",
    "k = 2\n",
    "tardir = './imgs/'\n",
    "if not os.path.isdir(tardir):\n",
    "  os.mkdir(tardir)\n",
    "\n",
    "# Store Pdf with convert_from_path function\n",
    "images = convert_from_path(basedir + f'{k}.pdf', poppler_path=\"D:\\\\Program Files\\\\poppler-22.11.0\\\\Library\\\\bin\")\n",
    " \n",
    "for i in range(len(images)):\n",
    "  if not os.path.isdir(tardir + f'{k}/'):\n",
    "    os.mkdir(tardir + f'{k}/')\n",
    "      # Save pages as images in the pdf\n",
    "  images[i].save(tardir + f'{k}/' + 'page'+ str(i) +'.png', 'PNG')"
   ]
  },
  {
   "cell_type": "code",
   "execution_count": 2,
   "metadata": {},
   "outputs": [
    {
     "name": "stdout",
     "output_type": "stream",
     "text": [
      "['chi_sim', 'chi_sim_vert', 'deu', 'eng', 'jpn', 'osd']\n"
     ]
    }
   ],
   "source": [
    "import pytesseract\n",
    "\n",
    "#print(pytesseract.pytesseract.tesseract_cmd)\n",
    "print(pytesseract.get_languages(config=''))"
   ]
  },
  {
   "cell_type": "code",
   "execution_count": null,
   "metadata": {},
   "outputs": [],
   "source": [
    "from PIL import Image\n",
    "import pytesseract\n",
    "\n",
    "print(pytesseract.image_to_string(Image.open('imgs/0/page0.png'), lang='chi_sim'))"
   ]
  },
  {
   "cell_type": "code",
   "execution_count": 1,
   "metadata": {},
   "outputs": [
    {
     "name": "stderr",
     "output_type": "stream",
     "text": [
      "d:\\work\\RemoteWorks\\pdf2text\\utils.py:11: FutureWarning: The input object of type 'PpmImageFile' is an array-like implementing one of the corresponding protocols (`__array__`, `__array_interface__` or `__array_struct__`); but not a sequence (or 0-D). In the future, this object will be coerced as if it was first converted using `np.array(obj)`. To retain the old behaviour, you have to either modify the type 'PpmImageFile', or assign to an empty array created with `np.empty(correct_shape, dtype=object)`.\n",
      "  return np.array(convert_from_path(pdf_path, poppler_path = poppler_path))\n",
      "d:\\work\\RemoteWorks\\pdf2text\\utils.py:11: VisibleDeprecationWarning: Creating an ndarray from ragged nested sequences (which is a list-or-tuple of lists-or-tuples-or ndarrays with different lengths or shapes) is deprecated. If you meant to do this, you must specify 'dtype=object' when creating the ndarray.\n",
      "  return np.array(convert_from_path(pdf_path, poppler_path = poppler_path))\n"
     ]
    },
    {
     "ename": "error",
     "evalue": "OpenCV(4.6.0) :-1: error: (-5:Bad argument) in function 'imshow'\n> Overload resolution failed:\n>  - mat is not a numpy array, neither a scalar\n>  - Expected Ptr<cv::cuda::GpuMat> for argument 'mat'\n>  - Expected Ptr<cv::UMat> for argument 'mat'\n",
     "output_type": "error",
     "traceback": [
      "\u001b[1;31m---------------------------------------------------------------------------\u001b[0m",
      "\u001b[1;31merror\u001b[0m                                     Traceback (most recent call last)",
      "\u001b[1;32md:\\work\\RemoteWorks\\pdf2text\\main.ipynb Cell 5\u001b[0m in \u001b[0;36m<cell line: 4>\u001b[1;34m()\u001b[0m\n\u001b[0;32m      <a href='vscode-notebook-cell:/d%3A/work/RemoteWorks/pdf2text/main.ipynb#W4sZmlsZQ%3D%3D?line=0'>1</a>\u001b[0m \u001b[39mfrom\u001b[39;00m \u001b[39mutils\u001b[39;00m \u001b[39mimport\u001b[39;00m \u001b[39m*\u001b[39m\n\u001b[0;32m      <a href='vscode-notebook-cell:/d%3A/work/RemoteWorks/pdf2text/main.ipynb#W4sZmlsZQ%3D%3D?line=2'>3</a>\u001b[0m im \u001b[39m=\u001b[39m pdf2imgs(\u001b[39m'\u001b[39m\u001b[39m./test/0.pdf\u001b[39m\u001b[39m'\u001b[39m)\n\u001b[1;32m----> <a href='vscode-notebook-cell:/d%3A/work/RemoteWorks/pdf2text/main.ipynb#W4sZmlsZQ%3D%3D?line=3'>4</a>\u001b[0m cv2\u001b[39m.\u001b[39;49mimshow(\u001b[39m'\u001b[39;49m\u001b[39mpic\u001b[39;49m\u001b[39m'\u001b[39;49m, im[\u001b[39m0\u001b[39;49m])\n\u001b[0;32m      <a href='vscode-notebook-cell:/d%3A/work/RemoteWorks/pdf2text/main.ipynb#W4sZmlsZQ%3D%3D?line=4'>5</a>\u001b[0m cv2\u001b[39m.\u001b[39mwaitKey(\u001b[39m0\u001b[39m)\n\u001b[0;32m      <a href='vscode-notebook-cell:/d%3A/work/RemoteWorks/pdf2text/main.ipynb#W4sZmlsZQ%3D%3D?line=5'>6</a>\u001b[0m cv2\u001b[39m.\u001b[39mdestroyAllWindows()\n",
      "\u001b[1;31merror\u001b[0m: OpenCV(4.6.0) :-1: error: (-5:Bad argument) in function 'imshow'\n> Overload resolution failed:\n>  - mat is not a numpy array, neither a scalar\n>  - Expected Ptr<cv::cuda::GpuMat> for argument 'mat'\n>  - Expected Ptr<cv::UMat> for argument 'mat'\n"
     ]
    }
   ],
   "source": [
    "from utils import *\n",
    "\n",
    "im = pdf2imgs('./test/0.pdf')\n",
    "cv2.imshow('pic', im[0])\n",
    "cv2.waitKey(0)\n",
    "cv2.destroyAllWindows()"
   ]
  },
  {
   "cell_type": "code",
   "execution_count": 2,
   "metadata": {},
   "outputs": [
    {
     "data": {
      "text/plain": [
       "array([<PIL.PpmImagePlugin.PpmImageFile image mode=RGB size=1653x2339 at 0x1F9E3CB3C40>,\n",
       "       <PIL.PpmImagePlugin.PpmImageFile image mode=RGB size=1653x2339 at 0x1F9E3D52A40>,\n",
       "       <PIL.PpmImagePlugin.PpmImageFile image mode=RGB size=1653x2339 at 0x1F9E3D53880>,\n",
       "       <PIL.PpmImagePlugin.PpmImageFile image mode=RGB size=1653x2339 at 0x1F9E3D53910>,\n",
       "       <PIL.PpmImagePlugin.PpmImageFile image mode=RGB size=1653x2339 at 0x1F9E3D88220>,\n",
       "       <PIL.PpmImagePlugin.PpmImageFile image mode=RGB size=1653x2339 at 0x1F9E3D88250>,\n",
       "       <PIL.PpmImagePlugin.PpmImageFile image mode=RGB size=1653x2339 at 0x1F9E3D88280>,\n",
       "       <PIL.PpmImagePlugin.PpmImageFile image mode=RGB size=1653x2339 at 0x1F9E3D882B0>,\n",
       "       <PIL.PpmImagePlugin.PpmImageFile image mode=RGB size=1653x2339 at 0x1F9E3D882E0>,\n",
       "       <PIL.PpmImagePlugin.PpmImageFile image mode=RGB size=1653x2339 at 0x1F9E3D88310>,\n",
       "       <PIL.PpmImagePlugin.PpmImageFile image mode=RGB size=1653x2339 at 0x1F9E3D88340>,\n",
       "       <PIL.PpmImagePlugin.PpmImageFile image mode=RGB size=1653x2339 at 0x1F9E3D88370>,\n",
       "       <PIL.PpmImagePlugin.PpmImageFile image mode=RGB size=1653x2339 at 0x1F9E3D883A0>,\n",
       "       <PIL.PpmImagePlugin.PpmImageFile image mode=RGB size=1653x2339 at 0x1F9E3D883D0>,\n",
       "       <PIL.PpmImagePlugin.PpmImageFile image mode=RGB size=1653x2339 at 0x1F9E3D88400>,\n",
       "       <PIL.PpmImagePlugin.PpmImageFile image mode=RGB size=1653x2339 at 0x1F9E3D88430>,\n",
       "       <PIL.PpmImagePlugin.PpmImageFile image mode=RGB size=1653x2339 at 0x1F9E3D88460>,\n",
       "       <PIL.PpmImagePlugin.PpmImageFile image mode=RGB size=1653x2339 at 0x1F9E3D88490>,\n",
       "       <PIL.PpmImagePlugin.PpmImageFile image mode=RGB size=1653x2339 at 0x1F9E3D884C0>,\n",
       "       <PIL.PpmImagePlugin.PpmImageFile image mode=RGB size=1653x2339 at 0x1F9E3D884F0>,\n",
       "       <PIL.PpmImagePlugin.PpmImageFile image mode=RGB size=1653x2339 at 0x1F9E3D88520>,\n",
       "       <PIL.PpmImagePlugin.PpmImageFile image mode=RGB size=1653x2339 at 0x1F9E3D88550>,\n",
       "       <PIL.PpmImagePlugin.PpmImageFile image mode=RGB size=1653x2339 at 0x1F9E3D88580>,\n",
       "       <PIL.PpmImagePlugin.PpmImageFile image mode=RGB size=1653x2339 at 0x1F9E3D885B0>,\n",
       "       <PIL.PpmImagePlugin.PpmImageFile image mode=RGB size=1653x2339 at 0x1F9E3D885E0>,\n",
       "       <PIL.PpmImagePlugin.PpmImageFile image mode=RGB size=1653x2339 at 0x1F9E3D88610>,\n",
       "       <PIL.PpmImagePlugin.PpmImageFile image mode=RGB size=1653x2339 at 0x1F9E3D88640>,\n",
       "       <PIL.PpmImagePlugin.PpmImageFile image mode=RGB size=1653x2339 at 0x1F9E3D88670>,\n",
       "       <PIL.PpmImagePlugin.PpmImageFile image mode=RGB size=1653x2339 at 0x1F9E3D886A0>,\n",
       "       <PIL.PpmImagePlugin.PpmImageFile image mode=RGB size=1653x2339 at 0x1F9E3D886D0>,\n",
       "       <PIL.PpmImagePlugin.PpmImageFile image mode=RGB size=1653x2339 at 0x1F9E3D88700>,\n",
       "       <PIL.PpmImagePlugin.PpmImageFile image mode=RGB size=1653x2339 at 0x1F9E3D88730>,\n",
       "       <PIL.PpmImagePlugin.PpmImageFile image mode=RGB size=1653x2339 at 0x1F9E3D88760>,\n",
       "       <PIL.PpmImagePlugin.PpmImageFile image mode=RGB size=1653x2339 at 0x1F9E3D88790>,\n",
       "       <PIL.PpmImagePlugin.PpmImageFile image mode=RGB size=1653x2339 at 0x1F9E3D887C0>,\n",
       "       <PIL.PpmImagePlugin.PpmImageFile image mode=RGB size=1653x2339 at 0x1F9E3D887F0>],\n",
       "      dtype=object)"
      ]
     },
     "execution_count": 2,
     "metadata": {},
     "output_type": "execute_result"
    }
   ],
   "source": [
    "im"
   ]
  },
  {
   "cell_type": "code",
   "execution_count": 5,
   "metadata": {},
   "outputs": [],
   "source": [
    "from openpyxl import Workbook\n",
    "from openpyxl.utils import get_column_letter\n",
    "\n",
    "wb = Workbook()\n",
    "ws = wb.active\n",
    "\n",
    "for row in range(1, 10):\n",
    "    for col in range(1, \n",
    "    10):\n",
    "        ws.cell(row, col, '我是一个一个')\n",
    "\n",
    "wb.save('haha.xlsx')"
   ]
  },
  {
   "cell_type": "code",
   "execution_count": null,
   "metadata": {},
   "outputs": [],
   "source": []
  }
 ],
 "metadata": {
  "kernelspec": {
   "display_name": "Python 3.10.4 ('torch')",
   "language": "python",
   "name": "python3"
  },
  "language_info": {
   "codemirror_mode": {
    "name": "ipython",
    "version": 3
   },
   "file_extension": ".py",
   "mimetype": "text/x-python",
   "name": "python",
   "nbconvert_exporter": "python",
   "pygments_lexer": "ipython3",
   "version": "3.10.4"
  },
  "orig_nbformat": 4,
  "vscode": {
   "interpreter": {
    "hash": "690c9ea092c8a6fc9517542155c4d05fadb9e10c4733225e6f103cd30826cc12"
   }
  }
 },
 "nbformat": 4,
 "nbformat_minor": 2
}
