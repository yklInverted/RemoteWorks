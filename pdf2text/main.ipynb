{
 "cells": [
  {
   "cell_type": "code",
   "execution_count": 1,
   "metadata": {},
   "outputs": [],
   "source": [
    "#整理pdf文件\n",
    "\n",
    "import os\n",
    "\n",
    "i = 0\n",
    "basedir = './test/'\n",
    "\n",
    "for file in os.listdir('./test'):\n",
    "    os.rename(basedir + file,basedir + f'{i}.pdf')\n",
    "    i+=1"
   ]
  },
  {
   "cell_type": "code",
   "execution_count": 13,
   "metadata": {},
   "outputs": [],
   "source": [
    "#pdf转图片\n",
    "\n",
    "# import module\n",
    "from pdf2image import convert_from_path\n",
    " \n",
    "basedir = './test/'\n",
    "k = 2\n",
    "tardir = './imgs/'\n",
    "if not os.path.isdir(tardir):\n",
    "  os.mkdir(tardir)\n",
    "\n",
    "# Store Pdf with convert_from_path function\n",
    "images = convert_from_path(basedir + f'{k}.pdf', poppler_path=\"D:\\\\Program Files\\\\poppler-22.11.0\\\\Library\\\\bin\")\n",
    " \n",
    "for i in range(len(images)):\n",
    "  if not os.path.isdir(tardir + f'{k}/'):\n",
    "    os.mkdir(tardir + f'{k}/')\n",
    "      # Save pages as images in the pdf\n",
    "  images[i].save(tardir + f'{k}/' + 'page'+ str(i) +'.png', 'PNG')"
   ]
  },
  {
   "cell_type": "code",
   "execution_count": 2,
   "metadata": {},
   "outputs": [
    {
     "name": "stdout",
     "output_type": "stream",
     "text": [
      "['chi_sim', 'chi_sim_vert', 'deu', 'eng', 'jpn', 'osd']\n"
     ]
    }
   ],
   "source": [
    "import pytesseract\n",
    "\n",
    "#print(pytesseract.pytesseract.tesseract_cmd)\n",
    "print(pytesseract.get_languages(config=''))"
   ]
  },
  {
   "cell_type": "code",
   "execution_count": 6,
   "metadata": {},
   "outputs": [
    {
     "name": "stdout",
     "output_type": "stream",
     "text": [
      "It er BE           金属材料代用单 | BE\n",
      "“                                                  Antrag zur Verwendung von               STAR\n",
      "alternativem Material         FAW-VOLKSWAGEN\n",
      "车型代码 VWA9L/OCN\n",
      "Pro jekt NT.\n",
      "零件号 :    3WD 803 300      零件名称 : ”中通道背板               第 1 页      HIN\n",
      "Teil-Nr. :                Bennenung :   Tunnel rear               Blatt        von 1\n",
      "总成号:      3WD 803 067                                          图纸日期 :2022. 06. 10\n",
      "零件供货厂 : 长春华翔汽车金属零部|材料来源_宝山钢铁股份有限公司          Zeichnungsdatum :\n",
      "件有限公       Materialhersteller :Baoshan Iron & Steel Co.,Ltd          2022. 06. 10\n",
      "Lieferant :  Changchun Huaxiang |厂家代码 :   7MS                   申请单号 :\n",
      "Automotive Metal    H        _                                          .\n",
      "ersteller-Cod                     Antrags-Nr. :\n",
      "Pa    Q    d                 7MS\n",
      "材料牌号                材料规格           相关标准\n",
      "Material                  Halbzeug        Entsprechend Normen\n",
      "图纸和标准要求                                                     VW50065-2019\n",
      "Anforderung in der          CR340LA-GI40/40            T=1.8+0. 14            EN 10143-2006\n",
      "und den Normen\n",
      "拟代用或拟采用                                                                       BQB 420-2021\n",
      "HC380LAD+Z 50/50           T=1.8+0.14\n",
      "ee | zum | mis | Me |\n",
      "I | Tel ss Imf er [sTualnmewiuf I\n",
      "                                        E\n",
      "ann  导语料  <0.12   <0.5   5  <0.03  0了  >0.015  -   n  <02\n",
      ".          .                     .          .025       0.15 | 0.09\n",
      "Chemische [Material\n",
      "拟代用材料                =         区         < | <\n",
      "Zusammensetz [alternative   和02 | 入05 | 16| 3 | 0025 2905| 015 | 0.09\n",
      "Ung     Material\n",
      "| Re | rm jasol 5 |\n",
      "mn wm ww |\n",
      "机械性能“|原设计材料          >                       表面防护 |原设计材料\n",
      "340           >| ~\n",
      "Woohanischa Original     430  410-530  21  223              Oberflaec |original\n",
      "Material                                              he    Material\n",
      "\\          拟代用材料 | 380-          >                        Schutz |外代用材料\n",
      "Eigenschaften faTternatıve      440-560                           alternative\n",
      "Material                                                   Material\n",
      "KATEAARERE                           Rn\n",
      "Mechanische Eigenschaften im geharteten                 镀层信息\n",
      "Zustand                        Beschichtung\n",
      "|\n",
      "S    Warme     Coating mass\n",
      "工艺性能                                                     behand| per side single-    Thickness per side um\n",
      "Technolegisch              N/mm    N/mm     %     %   u  lung    spot test g/n2\n",
      "e\n",
      "Eigenschaften 原设计材料\n",
      "UFTgIna                                                                  40-608/m?             5.6-8. 5hm\n",
      "拟代用材料\n",
      "                                      u\n",
      "Material\n",
      "材料转化单位〈零件制造商) :                              申请单位x雪件供货太)\n",
      "Teilherstller hat das Ersatzmaterial geprueftund bestaetigt.                 Ba: A  a:\n",
      "17. Be Ab u    Se     Il                                    ggf RR   Kt   7 ©, S\n",
      "长春华翔汽车金属零部件有限公司                                                                                   fh               f           23»\n",
      "Changchun Huaxiang PurangEiye Metal Parts co. ‚Ltd .                        \\ lkeemnegsnema, 1\n",
      "承诺拟代用材料的机械及工艺性能必须满足图纸设计的要求                                                                        ’X |Changehun Huaklani Automotive ee\n",
      "结 论:                                                        站本旧部 /\n",
      "Ergebnis :     EIER M                                     Br — ig\n",
      "23    A\n",
      "负责部门 :         设计师 TE             审核 :        p\n",
      "NICH                IX      Did            7      %          1                    R\n",
      "Abteilung :  TEDk      FOP :    [|       > Of    Geprueft :     # _     1-1? [ i\n",
      "\n"
     ]
    }
   ],
   "source": [
    "from PIL import Image\n",
    "import pytesseract\n",
    "\n",
    "print(pytesseract.image_to_string(Image.open('imgs/0/page0.png'), lang='chi_sim+deu',  config = '--psm 11'))"
   ]
  },
  {
   "cell_type": "code",
   "execution_count": 1,
   "metadata": {},
   "outputs": [
    {
     "name": "stdout",
     "output_type": "stream",
     "text": [
      "rows 2339\n",
      "cols 1653\n",
      "纵向： [139, 318, 486, 577, 691, 753, 850, 934, 1014, 1088, 1167, 1233, 1366, 1481]\n",
      "纵向线数： 14\n",
      "横向 [159, 295, 366, 439, 477, 517, 572, 654, 733, 828, 898, 944, 986, 1039, 1081, 1139, 1170, 1200, 1243, 1308, 1351, 1405, 1485, 1561, 1670, 1708, 1762, 1804, 1862, 2045, 2147, 2217]\n",
      "横向线数： 32\n",
      "data_list [(159, 139), (159, 486), (159, 1167), (159, 1481), (295, 139), (295, 486), (295, 1167), (295, 1481), (366, 139), (366, 577), (366, 1167), (366, 1481), (439, 1167), (439, 1481), (477, 139), (477, 577), (477, 1167), (517, 577), (517, 1167), (572, 1481), (572, 577), (572, 1167), (654, 139), (654, 486), (654, 577), (654, 1167), (654, 1481), (654, 850), (733, 139), (733, 486), (733, 1167), (733, 1481), (733, 850), (828, 486), (828, 850), (898, 318), (898, 486), (898, 691), (898, 753), (898, 850), (898, 934), (898, 1014), (898, 1088), (898, 1233), (898, 1366), (944, 318), (944, 486), (944, 691), (944, 753), (944, 850), (944, 934), (944, 1014), (944, 1088), (944, 1233), (944, 1366), (986, 486), (986, 318), (1039, 318), (1039, 486), (1039, 691), (1039, 753), (1039, 850), (1039, 934), (1039, 1014), (1039, 1088), (1039, 1233), (1039, 1366), (1081, 486), (1081, 318), (1139, 318), (1139, 486), (1139, 691), (1139, 753), (1139, 850), (1139, 934), (1139, 1014), (1139, 1088), (1139, 1233), (1139, 1366), (1170, 486), (1170, 691), (1170, 753), (1170, 850), (1200, 318), (1200, 486), (1200, 691), (1200, 753), (1200, 850), (1200, 1088), (1243, 318), (1243, 486), (1243, 1233), (1308, 318), (1308, 486), (1308, 691), (1308, 753), (1308, 1088), (1308, 1233), (1351, 318), (1351, 1233), (1405, 318), (1405, 691), (1405, 753), (1405, 1014), (1405, 1088), (1405, 1233), (1485, 691), (1485, 753), (1485, 1233), (1561, 691), (1561, 753), (1670, 318), (1670, 753), (1670, 1233), (1708, 318), (1762, 318), (1762, 1233), (1804, 318)]\n",
      "118\n",
      "data_dict {0: [(159, 139), (159, 486), (159, 1167), (159, 1481)], 1: [(295, 139), (295, 486), (295, 1167), (295, 1481)], 2: [(366, 139), (366, 577), (366, 1167), (366, 1481)], 3: [(439, 1167), (439, 1481)], 4: [(477, 139), (477, 577), (477, 1167)], 5: [(517, 577), (517, 1167)], 6: [(572, 577), (572, 1167), (572, 1481)], 7: [(654, 139), (654, 486), (654, 577), (654, 850), (654, 1167), (654, 1481)], 8: [(733, 139), (733, 486), (733, 850), (733, 1167), (733, 1481)], 9: [(828, 486), (828, 850)], 10: [(898, 318), (898, 486), (898, 691), (898, 753), (898, 850), (898, 934), (898, 1014), (898, 1088), (898, 1233), (898, 1366)], 11: [(944, 318), (944, 486), (944, 691), (944, 753), (944, 850), (944, 934), (944, 1014), (944, 1088), (944, 1233), (944, 1366)], 12: [(986, 318), (986, 486)], 13: [(1039, 318), (1039, 486), (1039, 691), (1039, 753), (1039, 850), (1039, 934), (1039, 1014), (1039, 1088), (1039, 1233), (1039, 1366)], 14: [(1081, 318), (1081, 486)], 15: [(1139, 318), (1139, 486), (1139, 691), (1139, 753), (1139, 850), (1139, 934), (1139, 1014), (1139, 1088), (1139, 1233), (1139, 1366)], 16: [(1170, 486), (1170, 691), (1170, 753), (1170, 850)], 17: [(1200, 318), (1200, 486), (1200, 691), (1200, 753), (1200, 850), (1200, 1088)], 18: [(1243, 318), (1243, 486), (1243, 1233)], 19: [(1308, 318), (1308, 486), (1308, 691), (1308, 753), (1308, 1088), (1308, 1233)], 20: [(1351, 318), (1351, 1233)], 21: [(1405, 318), (1405, 691), (1405, 753), (1405, 1014), (1405, 1088), (1405, 1233)], 22: [(1485, 691), (1485, 753), (1485, 1233)], 23: [(1561, 691), (1561, 753)], 24: [(1670, 318), (1670, 753), (1670, 1233)], 25: [(1708, 318)], 26: [(1762, 318), (1762, 1233)], 27: [(1804, 318)], 28: [], 29: [], 30: [], 31: []}\n"
     ]
    }
   ],
   "source": [
    "from utils import *\n",
    "from main import *\n",
    "\n",
    "im = pdf2imgs('./test/0.pdf')\n",
    "splitter = TableSplitter(scale = 50)\n",
    "dict = splitter.split_image(im[0])\n",
    "write_excel(dict)"
   ]
  },
  {
   "cell_type": "code",
   "execution_count": 1,
   "metadata": {},
   "outputs": [
    {
     "name": "stdout",
     "output_type": "stream",
     "text": [
      "rows 1236\n",
      "cols 1938\n",
      "纵向： [297, 666, 796, 873, 1120]\n",
      "纵向线数： 5\n",
      "横向 [130, 241, 376, 487, 744]\n",
      "横向线数： 5\n",
      "data_list [(130, 297), (130, 666), (130, 873), (130, 1120), (241, 297), (241, 666), (241, 873), (241, 1120), (376, 297), (376, 666), (376, 873), (376, 1120), (487, 297), (487, 666), (487, 796), (487, 873), (487, 1120), (744, 297), (744, 796), (744, 1120)]\n",
      "20\n",
      "data_dict {0: [(130, 297), (130, 666), (130, 873), (130, 1120)], 1: [(241, 297), (241, 666), (241, 873), (241, 1120)], 2: [(376, 297), (376, 666), (376, 873), (376, 1120)], 3: [(487, 297), (487, 666), (487, 796), (487, 873), (487, 1120)], 4: [(744, 297), (744, 796), (744, 1120)]}\n"
     ]
    }
   ],
   "source": [
    "from utils import *\n",
    "from main import *\n",
    "import cv2\n",
    "\n",
    "im = cv2.imread('./test/lala.png')\n",
    "splitter = TableSplitter(scale = 50)\n",
    "dict = splitter.split_image(im)"
   ]
  },
  {
   "cell_type": "code",
   "execution_count": 4,
   "metadata": {},
   "outputs": [
    {
     "name": "stdout",
     "output_type": "stream",
     "text": [
      "0 (130, 297)\n",
      "1 (130, 666)\n",
      "2 (130, 873)\n",
      "3 (130, 1120)\n"
     ]
    }
   ],
   "source": [
    "a = {0: [(130, 297), (130, 666), (130, 873), (130, 1120)], 1: [(241, 297), (241, 666), (241, 873), (241, 1120)], 2: [(376, 297), (376, 666), (376, 873), (376, 1120)], 3: [(487, 297), (487, 666), (487, 796), (487, 873), (487, 1120)], 4: [(744, 297), (744, 796), (744, 1120)]}\n",
    "for k,v in enumerate(a[0]):\n",
    "    print(k,v)"
   ]
  },
  {
   "cell_type": "code",
   "execution_count": null,
   "metadata": {},
   "outputs": [],
   "source": []
  }
 ],
 "metadata": {
  "kernelspec": {
   "display_name": "Python 3.10.4 ('torch')",
   "language": "python",
   "name": "python3"
  },
  "language_info": {
   "codemirror_mode": {
    "name": "ipython",
    "version": 3
   },
   "file_extension": ".py",
   "mimetype": "text/x-python",
   "name": "python",
   "nbconvert_exporter": "python",
   "pygments_lexer": "ipython3",
   "version": "3.10.4"
  },
  "orig_nbformat": 4,
  "vscode": {
   "interpreter": {
    "hash": "690c9ea092c8a6fc9517542155c4d05fadb9e10c4733225e6f103cd30826cc12"
   }
  }
 },
 "nbformat": 4,
 "nbformat_minor": 2
}
